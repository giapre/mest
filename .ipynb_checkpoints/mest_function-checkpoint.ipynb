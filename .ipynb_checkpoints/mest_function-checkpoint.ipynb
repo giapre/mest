{
 "cells": [
  {
   "cell_type": "code",
   "execution_count": 1,
   "id": "c738ed4d",
   "metadata": {},
   "outputs": [],
   "source": [
    "import numpy as np\n",
    "import matplotlib.pyplot as plt"
   ]
  },
  {
   "cell_type": "code",
   "execution_count": 2,
   "id": "dcfe44a6",
   "metadata": {},
   "outputs": [],
   "source": [
    "#Drug set ups\n",
    "\n",
    "def s1_inters_bif_line(s1p, s1x0): #intersection of the bifurcation with dz = 0\n",
    "        s1z, s1x1 = s1p\n",
    "        return (s1x1**3 + 2*s1x1**2 - 4.1 + s1z, s1x1 - s1x0 - s1z/4)\n",
    "    \n",
    "def s2_inters_bif_vert(s2p, s2z): #intersection of the bifurcation with the vertical line\n",
    "    s2x1 = s2p\n",
    "    return (s2x1**3 + 2*s2x1**2 - 4.1 + s2z)\n",
    "\n",
    "def f1_find_the_delta(f1x0):\n",
    "    \n",
    "    from scipy.optimize import fsolve\n",
    "    \n",
    "    f1all_the_deltas = []\n",
    "    for m in f1x0:\n",
    "        f1z, f1x1 = fsolve(s1_inters_bif_line, (3, -1), m) \n",
    "        #print(f'The intersection between the bifurcation line and the nullcline of z for x0 = {m} is at point ({f1z};{f1x1})')\n",
    "        \n",
    "        f1inters1, f1inters2, f1inters3 = fsolve(s2_inters_bif_vert, (-2, -1, 1), f1z)\n",
    "        #print(f'And the intersections between the vertical line of z = {f1z} are at x1 = {f1inters1, f1inters2, f1inters3}')\n",
    "        #return (f1z, f1x1)\n",
    "        \n",
    "        f1delta = abs(f1inters1 - f1inters2)\n",
    "        #print(f'And the gap to push x1 above the separatrix has to be more than {f1delta}')\n",
    "        \n",
    "        f1all_the_deltas.append(f1delta)\n",
    "    return(f1all_the_deltas)"
   ]
  },
  {
   "cell_type": "code",
   "execution_count": 3,
   "id": "928d761e",
   "metadata": {},
   "outputs": [],
   "source": [
    "def dose_effect(fdrug, fdose, fstarting_x0):\n",
    "    \n",
    "    fdose = fdose*12.3 # Concersion from human dose to mouse\n",
    "    \n",
    "    fx0 = np.arange(-3.025,-2.062,0.001)\n",
    "    fall_the_deltas = f1_find_the_delta(fx0)\n",
    "    plt.plot(fx0, fall_the_deltas)\n",
    "    \n",
    "    fmax_mest_effect = 29.9*np.log10(184.5) - 19.5 #I set the phenytoin as referral drug for max MEST effect by using\n",
    "    #maximal phenytoin dose\n",
    "    \n",
    "    if fdrug == 'phenytoin':\n",
    "        feffect = 29.9*np.log10(fdose) - 19.5 #mest curve for phenytoin\n",
    "    if fdrug == 'carbamazepine':\n",
    "        feffect = 15.8*np.log10(fdose) - 1.03 #mest curve for carbamazepine\n",
    "    if fdrug == 'valproate':\n",
    "        feffect = 9.97*np.log10(fdose) - 5.97 #mest curve for valproate\n",
    "        \n",
    "    frelative_drug_effect = feffect/fmax_mest_effect #relative % effect compared to maximal phenytoin\n",
    "    \n",
    "    fwhere_is_x0 = np.where(fx0 > fstarting_x0) #I seek for the starting x0 and corresponding i in the I-x0 relationship\n",
    "    fstarting_x0_idx = fwhere_is_x0[0][0] -1 \n",
    "    fstarting_i = fall_the_deltas[fstarting_x0_idx]\n",
    "    \n",
    "    feffect_ep_i = frelative_drug_effect*(2-fstarting_i) #I calculate the relative effect of the dose on the epileptor\n",
    "    \n",
    "    fwhere_is_i =np.where(fall_the_deltas < (feffect_ep_i + fstarting_i)) #I find the new x0 based on the relative effect\n",
    "    ffinal_i_idx = fwhere_is_i[0][0] \n",
    "    ffinal_x0 = fx0[ffinal_i_idx]\n",
    "    \n",
    "    print(fstarting_x0, \"became\", ffinal_x0)\n",
    "    return ffinal_x0"
   ]
  },
  {
   "cell_type": "code",
   "execution_count": null,
   "id": "26485a5c",
   "metadata": {},
   "outputs": [],
   "source": []
  }
 ],
 "metadata": {
  "kernelspec": {
   "display_name": "Python 3 (ipykernel)",
   "language": "python",
   "name": "python3"
  },
  "language_info": {
   "codemirror_mode": {
    "name": "ipython",
    "version": 3
   },
   "file_extension": ".py",
   "mimetype": "text/x-python",
   "name": "python",
   "nbconvert_exporter": "python",
   "pygments_lexer": "ipython3",
   "version": "3.10.8"
  }
 },
 "nbformat": 4,
 "nbformat_minor": 5
}
